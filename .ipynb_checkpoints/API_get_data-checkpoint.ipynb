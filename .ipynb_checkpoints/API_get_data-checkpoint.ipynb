{
 "cells": [
  {
   "cell_type": "code",
   "execution_count": 11,
   "id": "postal-cooler",
   "metadata": {},
   "outputs": [
    {
     "name": "stdout",
     "output_type": "stream",
     "text": [
      "{'int_response': -2, 'string_response': 'Invalid request', 'checksum': '', 'faces': None, 'original_filename': '', 'tags': None, 'uid': '00000000-0000-0000-0000-000000000000'}\n"
     ]
    },
    {
     "ename": "TypeError",
     "evalue": "'NoneType' object is not subscriptable",
     "output_type": "error",
     "traceback": [
      "\u001b[0;31m---------------------------------------------------------------------------\u001b[0m",
      "\u001b[0;31mTypeError\u001b[0m                                 Traceback (most recent call last)",
      "\u001b[0;32m<ipython-input-11-9d86f1deac78>\u001b[0m in \u001b[0;36m<module>\u001b[0;34m\u001b[0m\n\u001b[1;32m     26\u001b[0m           \u001b[0;32mwith\u001b[0m \u001b[0mopen\u001b[0m\u001b[0;34m(\u001b[0m\u001b[0;34m'test.txt'\u001b[0m\u001b[0;34m,\u001b[0m \u001b[0;34m'r'\u001b[0m\u001b[0;34m)\u001b[0m \u001b[0;32mas\u001b[0m \u001b[0mf\u001b[0m\u001b[0;34m:\u001b[0m\u001b[0;34m\u001b[0m\u001b[0;34m\u001b[0m\u001b[0m\n\u001b[1;32m     27\u001b[0m                  \u001b[0mdata\u001b[0m \u001b[0;34m=\u001b[0m \u001b[0mjson\u001b[0m\u001b[0;34m.\u001b[0m\u001b[0mload\u001b[0m\u001b[0;34m(\u001b[0m\u001b[0mf\u001b[0m\u001b[0;34m)\u001b[0m\u001b[0;34m\u001b[0m\u001b[0;34m\u001b[0m\u001b[0m\n\u001b[0;32m---> 28\u001b[0;31m           \u001b[0mfeatures\u001b[0m\u001b[0;34m.\u001b[0m\u001b[0mappend\u001b[0m\u001b[0;34m(\u001b[0m\u001b[0;34m[\u001b[0m\u001b[0mfile\u001b[0m\u001b[0;34m,\u001b[0m\u001b[0mdata\u001b[0m\u001b[0;34m[\u001b[0m\u001b[0;34m'faces'\u001b[0m\u001b[0;34m]\u001b[0m\u001b[0;34m[\u001b[0m\u001b[0;36m0\u001b[0m\u001b[0;34m]\u001b[0m\u001b[0;34m[\u001b[0m\u001b[0;34m'attributes'\u001b[0m\u001b[0;34m]\u001b[0m\u001b[0;34m[\u001b[0m\u001b[0;34m'age'\u001b[0m\u001b[0;34m]\u001b[0m\u001b[0;34m[\u001b[0m\u001b[0;34m'value'\u001b[0m\u001b[0;34m]\u001b[0m\u001b[0;34m,\u001b[0m\u001b[0mdata\u001b[0m\u001b[0;34m[\u001b[0m\u001b[0;34m'faces'\u001b[0m\u001b[0;34m]\u001b[0m\u001b[0;34m[\u001b[0m\u001b[0;36m0\u001b[0m\u001b[0;34m]\u001b[0m\u001b[0;34m[\u001b[0m\u001b[0;34m'attributes'\u001b[0m\u001b[0;34m]\u001b[0m\u001b[0;34m[\u001b[0m\u001b[0;34m'gender'\u001b[0m\u001b[0;34m]\u001b[0m\u001b[0;34m[\u001b[0m\u001b[0;34m'value'\u001b[0m\u001b[0;34m]\u001b[0m\u001b[0;34m,\u001b[0m\u001b[0mdata\u001b[0m\u001b[0;34m[\u001b[0m\u001b[0;34m'faces'\u001b[0m\u001b[0;34m]\u001b[0m\u001b[0;34m[\u001b[0m\u001b[0;36m0\u001b[0m\u001b[0;34m]\u001b[0m\u001b[0;34m[\u001b[0m\u001b[0;34m'attributes'\u001b[0m\u001b[0;34m]\u001b[0m\u001b[0;34m[\u001b[0m\u001b[0;34m'beauty'\u001b[0m\u001b[0;34m]\u001b[0m\u001b[0;34m[\u001b[0m\u001b[0;34m'male_score'\u001b[0m\u001b[0;34m]\u001b[0m\u001b[0;34m,\u001b[0m\u001b[0mdata\u001b[0m\u001b[0;34m[\u001b[0m\u001b[0;34m'faces'\u001b[0m\u001b[0;34m]\u001b[0m\u001b[0;34m[\u001b[0m\u001b[0;36m0\u001b[0m\u001b[0;34m]\u001b[0m\u001b[0;34m[\u001b[0m\u001b[0;34m'attributes'\u001b[0m\u001b[0;34m]\u001b[0m\u001b[0;34m[\u001b[0m\u001b[0;34m'beauty'\u001b[0m\u001b[0;34m]\u001b[0m\u001b[0;34m[\u001b[0m\u001b[0;34m'female_score'\u001b[0m\u001b[0;34m]\u001b[0m\u001b[0;34m,\u001b[0m\u001b[0mdata\u001b[0m\u001b[0;34m[\u001b[0m\u001b[0;34m'faces'\u001b[0m\u001b[0;34m]\u001b[0m\u001b[0;34m[\u001b[0m\u001b[0;36m0\u001b[0m\u001b[0;34m]\u001b[0m\u001b[0;34m[\u001b[0m\u001b[0;34m'attributes'\u001b[0m\u001b[0;34m]\u001b[0m\u001b[0;34m[\u001b[0m\u001b[0;34m'emotion'\u001b[0m\u001b[0;34m]\u001b[0m\u001b[0;34m[\u001b[0m\u001b[0;34m'happiness'\u001b[0m\u001b[0;34m]\u001b[0m\u001b[0;34m]\u001b[0m\u001b[0;34m)\u001b[0m\u001b[0;34m\u001b[0m\u001b[0;34m\u001b[0m\u001b[0m\n\u001b[0m\u001b[1;32m     29\u001b[0m           \u001b[0mprint\u001b[0m\u001b[0;34m(\u001b[0m\u001b[0mdata\u001b[0m\u001b[0;34m[\u001b[0m\u001b[0;34m'faces'\u001b[0m\u001b[0;34m]\u001b[0m\u001b[0;34m[\u001b[0m\u001b[0;36m0\u001b[0m\u001b[0;34m]\u001b[0m\u001b[0;34m[\u001b[0m\u001b[0;34m'attributes'\u001b[0m\u001b[0;34m]\u001b[0m\u001b[0;34m[\u001b[0m\u001b[0;34m'emotion'\u001b[0m\u001b[0;34m]\u001b[0m\u001b[0;34m[\u001b[0m\u001b[0;34m'happiness'\u001b[0m\u001b[0;34m]\u001b[0m\u001b[0;34m)\u001b[0m\u001b[0;34m\u001b[0m\u001b[0;34m\u001b[0m\u001b[0m\n\u001b[1;32m     30\u001b[0m           \u001b[0mprint\u001b[0m\u001b[0;34m(\u001b[0m\u001b[0mfile_name\u001b[0m\u001b[0;34m,\u001b[0m\u001b[0mdata\u001b[0m\u001b[0;34m[\u001b[0m\u001b[0;34m'faces'\u001b[0m\u001b[0;34m]\u001b[0m\u001b[0;34m[\u001b[0m\u001b[0;36m0\u001b[0m\u001b[0;34m]\u001b[0m\u001b[0;34m[\u001b[0m\u001b[0;34m'attributes'\u001b[0m\u001b[0;34m]\u001b[0m\u001b[0;34m[\u001b[0m\u001b[0;34m'age'\u001b[0m\u001b[0;34m]\u001b[0m\u001b[0;34m[\u001b[0m\u001b[0;34m'value'\u001b[0m\u001b[0;34m]\u001b[0m\u001b[0;34m,\u001b[0m\u001b[0mdata\u001b[0m\u001b[0;34m[\u001b[0m\u001b[0;34m'faces'\u001b[0m\u001b[0;34m]\u001b[0m\u001b[0;34m[\u001b[0m\u001b[0;36m0\u001b[0m\u001b[0;34m]\u001b[0m\u001b[0;34m[\u001b[0m\u001b[0;34m'attributes'\u001b[0m\u001b[0;34m]\u001b[0m\u001b[0;34m[\u001b[0m\u001b[0;34m'gender'\u001b[0m\u001b[0;34m]\u001b[0m\u001b[0;34m[\u001b[0m\u001b[0;34m'value'\u001b[0m\u001b[0;34m]\u001b[0m\u001b[0;34m,\u001b[0m\u001b[0mdata\u001b[0m\u001b[0;34m[\u001b[0m\u001b[0;34m'faces'\u001b[0m\u001b[0;34m]\u001b[0m\u001b[0;34m[\u001b[0m\u001b[0;36m0\u001b[0m\u001b[0;34m]\u001b[0m\u001b[0;34m[\u001b[0m\u001b[0;34m'attributes'\u001b[0m\u001b[0;34m]\u001b[0m\u001b[0;34m[\u001b[0m\u001b[0;34m'beauty'\u001b[0m\u001b[0;34m]\u001b[0m\u001b[0;34m[\u001b[0m\u001b[0;34m'male_score'\u001b[0m\u001b[0;34m]\u001b[0m\u001b[0;34m,\u001b[0m\u001b[0mdata\u001b[0m\u001b[0;34m[\u001b[0m\u001b[0;34m'faces'\u001b[0m\u001b[0;34m]\u001b[0m\u001b[0;34m[\u001b[0m\u001b[0;36m0\u001b[0m\u001b[0;34m]\u001b[0m\u001b[0;34m[\u001b[0m\u001b[0;34m'attributes'\u001b[0m\u001b[0;34m]\u001b[0m\u001b[0;34m[\u001b[0m\u001b[0;34m'beauty'\u001b[0m\u001b[0;34m]\u001b[0m\u001b[0;34m[\u001b[0m\u001b[0;34m'female_score'\u001b[0m\u001b[0;34m]\u001b[0m\u001b[0;34m,\u001b[0m\u001b[0mdata\u001b[0m\u001b[0;34m[\u001b[0m\u001b[0;34m'faces'\u001b[0m\u001b[0;34m]\u001b[0m\u001b[0;34m[\u001b[0m\u001b[0;36m0\u001b[0m\u001b[0;34m]\u001b[0m\u001b[0;34m[\u001b[0m\u001b[0;34m'attributes'\u001b[0m\u001b[0;34m]\u001b[0m\u001b[0;34m[\u001b[0m\u001b[0;34m'emotion'\u001b[0m\u001b[0;34m]\u001b[0m\u001b[0;34m[\u001b[0m\u001b[0;34m'happiness'\u001b[0m\u001b[0;34m]\u001b[0m\u001b[0;34m)\u001b[0m\u001b[0;34m\u001b[0m\u001b[0;34m\u001b[0m\u001b[0m\n",
      "\u001b[0;31mTypeError\u001b[0m: 'NoneType' object is not subscriptable"
     ]
    }
   ],
   "source": [
    "\n",
    "import requests\n",
    "import base64\n",
    "import json\n",
    "import os\n",
    "import argparse\n",
    "url = 'http://www.betafaceapi.com/service_json.svc/GetImageInfo'\n",
    "features=[]\n",
    "for file in os.listdir('/home/ubuntu/ME-beautydatabase/images/female/hispanic/'):\n",
    "   if file.endswith('.jpg') or file.endswith('.jpeg') or file.endswith('.png'):\n",
    "       file= '/home/ubuntu/ME-beautydatabase/images/female/hispanic/' + file\n",
    "       with open('/home/ubuntu/1.jpg', 'rb') as f:\n",
    "          image = f.read()\n",
    "          image_base64 = base64.b64encode(image)\n",
    "          data = {\n",
    "                'api_key': \"d45fd466-51e2-4701-8da8-04351c872236\",\n",
    "                'api_secret': \"171e8465-f548-401d-b63b-caf0dc28df5f\",\n",
    "                'detection_flags': \"propoints\",\n",
    "                'image_base64': image_base64,\n",
    "                'original_filename': f\n",
    "          }\n",
    "          response = requests.post(url, data)\n",
    "          data = response.json()\n",
    "          print(data)\n",
    "          with open('test.txt','w') as f:\n",
    "                 json.dump(data, f, indent=4, separators=(',', ': '))\n",
    "          with open('test.txt', 'r') as f:\n",
    "                 data = json.load(f)\n",
    "          features.append([file,data['faces'][0]['attributes']['age']['value'],data['faces'][0]['attributes']['gender']['value'],data['faces'][0]['attributes']['beauty']['male_score'],data['faces'][0]['attributes']['beauty']['female_score'],data['faces'][0]['attributes']['emotion']['happiness']])\n",
    "          print(data['faces'][0]['attributes']['emotion']['happiness'])\n",
    "          print(file_name,data['faces'][0]['attributes']['age']['value'],data['faces'][0]['attributes']['gender']['value'],data['faces'][0]['attributes']['beauty']['male_score'],data['faces'][0]['attributes']['beauty']['female_score'],data['faces'][0]['attributes']['emotion']['happiness'])   \n",
    "import pandas\n",
    "df0 = pandas.DataFrame(features, columns=['file', 'age', 'gender', 'attr_male','attr_female','happiness'])        \n",
    "df0.to_excel('betaface_indian_female.xlsx')"
   ]
  },
  {
   "cell_type": "code",
   "execution_count": 20,
   "id": "running-compromise",
   "metadata": {},
   "outputs": [
    {
     "name": "stdout",
     "output_type": "stream",
     "text": [
      "{'request_id': '1617870283,6e05122f-8eec-4092-81a2-419343e7b34c', 'time_used': 149, 'faces': [{'face_token': 'c40e6521e5ad08420286ede3b246b3f8', 'face_rectangle': {'top': 249, 'left': 195, 'width': 212, 'height': 212}, 'attributes': {'gender': {'value': 'Male'}, 'age': {'value': 28}, 'smile': {'value': 0.236, 'threshold': 50.0}, 'headpose': {'pitch_angle': 3.8383224, 'roll_angle': 2.3746622, 'yaw_angle': -12.890822}, 'blur': {'blurness': {'value': 0.806, 'threshold': 50.0}, 'motionblur': {'value': 0.806, 'threshold': 50.0}, 'gaussianblur': {'value': 0.806, 'threshold': 50.0}}, 'eyestatus': {'left_eye_status': {'no_glass_eye_open': 99.99, 'no_glass_eye_close': 0.0, 'normal_glass_eye_open': 0.009, 'normal_glass_eye_close': 0.0, 'dark_glasses': 0.001, 'occlusion': 0.0}, 'right_eye_status': {'no_glass_eye_open': 99.999, 'no_glass_eye_close': 0.0, 'normal_glass_eye_open': 0.0, 'normal_glass_eye_close': 0.0, 'dark_glasses': 0.001, 'occlusion': 0.0}}, 'emotion': {'anger': 0.087, 'disgust': 0.008, 'fear': 0.352, 'happiness': 0.062, 'neutral': 99.431, 'sadness': 0.008, 'surprise': 0.053}, 'facequality': {'value': 68.422, 'threshold': 70.1}, 'ethnicity': {'value': ''}, 'beauty': {'male_score': 79.528, 'female_score': 81.065}, 'mouthstatus': {'surgical_mask_or_respirator': 0.0, 'other_occlusion': 0.139, 'close': 99.86, 'open': 0.0}, 'eyegaze': {'left_eye_gaze': {'position_x_coordinate': 0.467, 'position_y_coordinate': 0.48, 'vector_x_component': -0.128, 'vector_y_component': 0.01, 'vector_z_component': 0.992}, 'right_eye_gaze': {'position_x_coordinate': 0.472, 'position_y_coordinate': 0.463, 'vector_x_component': -0.022, 'vector_y_component': -0.001, 'vector_z_component': 1.0}}, 'skinstatus': {'health': 9.018, 'stain': 1.49, 'dark_circle': 4.348, 'acne': 2.203}, 'glass': {'value': 'None'}}}], 'image_id': 'yGN810OAbDcAHnkHitaf1w==', 'face_num': 1}\n"
     ]
    },
    {
     "data": {
      "text/html": [
       "<div>\n",
       "<style scoped>\n",
       "    .dataframe tbody tr th:only-of-type {\n",
       "        vertical-align: middle;\n",
       "    }\n",
       "\n",
       "    .dataframe tbody tr th {\n",
       "        vertical-align: top;\n",
       "    }\n",
       "\n",
       "    .dataframe thead th {\n",
       "        text-align: right;\n",
       "    }\n",
       "</style>\n",
       "<table border=\"1\" class=\"dataframe\">\n",
       "  <thead>\n",
       "    <tr style=\"text-align: right;\">\n",
       "      <th></th>\n",
       "      <th>file</th>\n",
       "      <th>age</th>\n",
       "      <th>gender</th>\n",
       "      <th>attr_male</th>\n",
       "      <th>attr_female</th>\n",
       "      <th>happiness</th>\n",
       "      <th>smile</th>\n",
       "      <th>face quality</th>\n",
       "      <th>skin</th>\n",
       "    </tr>\n",
       "  </thead>\n",
       "  <tbody>\n",
       "    <tr>\n",
       "      <th>0</th>\n",
       "      <td>/home/ubuntu/1.jpg</td>\n",
       "      <td>28</td>\n",
       "      <td>Male</td>\n",
       "      <td>79.528</td>\n",
       "      <td>81.065</td>\n",
       "      <td>0.062</td>\n",
       "      <td>0.236</td>\n",
       "      <td>68.422</td>\n",
       "      <td>9.018</td>\n",
       "    </tr>\n",
       "  </tbody>\n",
       "</table>\n",
       "</div>"
      ],
      "text/plain": [
       "                 file  age gender  attr_male  attr_female  happiness  smile  \\\n",
       "0  /home/ubuntu/1.jpg   28   Male     79.528       81.065      0.062  0.236   \n",
       "\n",
       "   face quality   skin  \n",
       "0        68.422  9.018  "
      ]
     },
     "execution_count": 20,
     "metadata": {},
     "output_type": "execute_result"
    }
   ],
   "source": [
    "\n",
    "      import requests\n",
    "      import base64\n",
    "      import json\n",
    "      import os\n",
    "      import argparse\n",
    "      import pandas\n",
    "      url = 'https://api-us.faceplusplus.com/facepp/v3/detect'\n",
    "      features=[]\n",
    "#for file in os.listdir('/home/ubuntu/ME-beautydatabase/images/female/indian/'):\n",
    "   \n",
    " #  if file.endswith('.jpg') or file.endswith('.jpeg') or file.endswith('.png'):\n",
    "      name = os.path.basename(file)\n",
    "      head, tail = os.path.split(name)\n",
    "      pos=tail.find(\".\")\n",
    "      file_name=tail[0:pos]\n",
    "   #   img_path = os.path.join('/home/ubuntu/ME-beautydatabase/images/female/indian/', file)\n",
    "      img_path=\"/home/ubuntu/1.jpg\"\n",
    "      with open(img_path, 'rb') as f:\n",
    "          image = f.read()\n",
    "        \n",
    "          image_base64 = base64.b64encode(image)\n",
    "\n",
    "          data = {\n",
    "                'api_key': \"pI9IzxzdTatfCI-0SNjbQRIjEw98_vQj\",\n",
    "                'api_secret': \"RjjiL0L3lMnOOBb-3rKnx69Hc8sFy2Zy\",\n",
    "                'image_base64': image_base64,\n",
    "                'return_attributes': \"gender,age,smiling,headpose,facequality,blur,eyestatus,emotion,ethnicity,beauty,mouthstatus,eyegaze,skinstatus\"\n",
    "                }\n",
    "          response = requests.post(url, data)\n",
    "          data = response.json()\n",
    "          print(data)\n",
    "          with open('test.txt','w') as f:\n",
    "                 json.dump(data, f, indent=4, separators=(',', ': '))\n",
    "          with open('test.txt', 'r') as f:\n",
    "                 data = json.load(f)\n",
    "          features.append([img_path,data['faces'][0]['attributes']['age']['value'],data['faces'][0]['attributes']['gender']['value'],data['faces'][0]['attributes']['beauty']['male_score'],data['faces'][0]['attributes']['beauty']['female_score'],data['faces'][0]['attributes']['emotion']['happiness'],data['faces'][0]['attributes']['smile']['value'],data['faces'][0]['attributes']['facequality']['value'],data['faces'][0]['attributes']['skinstatus']['health']])\n",
    "        #  print(data['faces'][0]['attributes']['emotion']['happiness'])\n",
    "          #print(file_name,data['faces'][0]['attributes']['age']['value'],data['faces'][0]['attributes']['gender']['value'],data['faces'][0]['attributes']['beauty']['male_score'],data['faces'][0]['attributes']['beauty']['female_score'],data['faces'][0]['attributes']['emotion']['happiness'])   \n",
    "\n",
    "      df0 = pandas.DataFrame(features, columns=['file', 'age', 'gender', 'attr_male','attr_female','happiness', 'smile', 'face quality', 'skin'])        \n",
    "      df0"
   ]
  },
  {
   "cell_type": "code",
   "execution_count": null,
   "id": "inappropriate-restriction",
   "metadata": {},
   "outputs": [],
   "source": []
  }
 ],
 "metadata": {
  "kernelspec": {
   "display_name": "Python 3",
   "language": "python",
   "name": "python3"
  },
  "language_info": {
   "codemirror_mode": {
    "name": "ipython",
    "version": 3
   },
   "file_extension": ".py",
   "mimetype": "text/x-python",
   "name": "python",
   "nbconvert_exporter": "python",
   "pygments_lexer": "ipython3",
   "version": "3.7.10"
  }
 },
 "nbformat": 4,
 "nbformat_minor": 5
}
